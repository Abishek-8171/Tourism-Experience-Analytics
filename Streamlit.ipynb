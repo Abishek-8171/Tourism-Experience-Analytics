{
  "nbformat": 4,
  "nbformat_minor": 0,
  "metadata": {
    "colab": {
      "provenance": []
    },
    "kernelspec": {
      "name": "python3",
      "display_name": "Python 3"
    },
    "language_info": {
      "name": "python"
    }
  },
  "cells": [
    {
      "cell_type": "markdown",
      "source": [
        "# ***Rating & Visit_mode***"
      ],
      "metadata": {
        "id": "YHg6qHWcXrG9"
      }
    },
    {
      "cell_type": "code",
      "source": [
        "!pip install streamlit\n",
        "!pip install pyngrok"
      ],
      "metadata": {
        "id": "9HzRDQVfYeAQ"
      },
      "execution_count": null,
      "outputs": []
    },
    {
      "cell_type": "code",
      "source": [
        "%%writefile app.py\n",
        "import streamlit as st\n",
        "import pandas as pd\n",
        "import pickle\n",
        "from sklearn.preprocessing import LabelEncoder\n",
        "from sklearn.neighbors import KNeighborsClassifier\n",
        "from sklearn.ensemble import RandomForestClassifier\n",
        "\n",
        "col1, col2 = st.columns([0.7,0.7])\n",
        "\n",
        "with col1:\n",
        "    st.image(\"/content/drive/MyDrive/mini_project_4_db/m4_pickle_files/Tourism template.jpg\",width=600)\n",
        "with col2:\n",
        "    st.image(\"/content/drive/MyDrive/mini_project_4_db/m4_pickle_files/images_temp.jpg\",width=600)\n",
        "\n",
        "st.title('🤖Smart Travel Recommender✨')\n",
        "data=pd.read_csv('/content/drive/MyDrive/mini_project_4_db/m4_pickle_files/data.csv')\n",
        "fil_data = data[['Continent','Region','Country','Attraction','VisitMonth','VisitMode','CityName','Rating']]\n",
        "main_menu=fil_data.groupby(['Continent','Region','Country','Attraction','VisitMonth','VisitMode','CityName'])['Rating'].mean().reset_index()\n",
        "main_menu.drop('Region',axis=1,inplace=True)\n",
        "\n",
        "st.write(\"Discover your next dream destination! Our smart system recommends the best tourist spots based on your travel style, location, and ratings.\")\n",
        "st.subheader(\"How It Works\")\n",
        "st.markdown(\"\"\"\n",
        "1. 🎯 Select your preferences (Country, City, Mode of Visit).\n",
        "2. 🌍 View top-rated tourist places.\n",
        "3. 🧳 Save your favorite destinations and start planning!\n",
        "\"\"\")\n",
        "st.subheader(\"Key Features\")\n",
        "st.markdown(\"\"\"\n",
        "- 🚀 Real-time destination suggestions.\n",
        "- 🏖️ Personalized based on your choices.\n",
        "- 📊 Data-driven recommendations.\n",
        "- 🌟 Explore attractions by ratings, region, and season.\n",
        "\"\"\")\n",
        "\n",
        "st.sidebar.header(\"Recommender🌍\")\n",
        "options=st.sidebar.selectbox('',['Select_Type','Rating','Visit_mode'])\n",
        "\n",
        "if options == 'Rating':\n",
        "  st.header('Predict Rating')\n",
        "  month = data['VisitMonth'].unique()\n",
        "  VisitMonth = st.selectbox('VisitMonth',[ 1,  2,  3,  4,  5,  6,  7,  8,  9, 10, 11, 12])\n",
        "  CityName = st.selectbox('CityName',data['CityName'].unique())\n",
        "  Attraction = st.selectbox('Attraction',data['Attraction'].unique())\n",
        "  VisitMode = st.selectbox('VisitMode',data['VisitMode'].unique())\n",
        "  submitted = st.button('Predict')\n",
        "  if submitted:\n",
        "    features={'VisitMonth': VisitMonth, 'CityName' : CityName , 'Attraction' : Attraction, 'VisitMode' : VisitMode}\n",
        "\n",
        "    pre_freatures=pd.DataFrame([features])\n",
        "    with open('/content/drive/MyDrive/mini_project_4_db/m4_pickle_files/label_encoder.pkl','rb') as enco:\n",
        "        encoder=pickle.load(enco)\n",
        "    for col in pre_freatures.columns:\n",
        "        if col in encoder:\n",
        "            pre_freatures[col] = encoder[col].transform(pre_freatures[col])\n",
        "    with open('/content/drive/MyDrive/mini_project_4_db/m4_pickle_files/RFC_Ratings.pkl','rb') as model:\n",
        "        rfc_model=pickle.load(model)\n",
        "        prediction=rfc_model.predict(pre_freatures)\n",
        "        st.header('Approximate Ratings')\n",
        "        st.subheader(f\"{prediction[0]}\")\n",
        "\n",
        "if options == 'Visit_mode':\n",
        "  st.header('Predict Visit_mode')\n",
        "  vm_month = data['VisitMonth'].unique()\n",
        "  vm_year = data['VisitYear'].unique()\n",
        "  vm_year.sort()\n",
        "  vm_VisitYear = st.selectbox('VisitYear','2023')\n",
        "  vm_VisitMonth = st.selectbox('VisitMonth',[ 1,  2,  3,  4,  5,  6,  7,  8,  9, 10, 11, 12])\n",
        "  vm_Rating = st.selectbox('Rating',data['Rating'].unique())\n",
        "  vm_CityName = st.selectbox('CityName',data['CityName'].unique())\n",
        "  vm_Attraction = st.selectbox('Attraction',data['Attraction'].unique())\n",
        "  vm_AttractionType = st.selectbox('AttractionType',data['AttractionType'].unique())\n",
        "  vm_Country = st.selectbox('Country',data['Country'].unique())\n",
        "  vm_submitted = st.button('Predict')\n",
        "  if vm_submitted:\n",
        "    vm_features={'VisitYear': vm_VisitYear,'VisitMonth': vm_VisitMonth,'Rating' : vm_Rating ,'Attraction' : vm_Attraction,\n",
        "               'AttractionType' : vm_AttractionType,'CityName' : vm_CityName ,   'Country' : vm_Country}\n",
        "\n",
        "    vm_pre_freatures=pd.DataFrame([vm_features])\n",
        "    with open('/content/drive/MyDrive/mini_project_4_db/m4_pickle_files/label_encoder.pkl','rb') as enco:\n",
        "        encoder=pickle.load(enco)\n",
        "    for col in vm_pre_freatures.columns:\n",
        "        if col in encoder:\n",
        "            vm_pre_freatures[col] = encoder[col].transform(vm_pre_freatures[col])\n",
        "    with open('/content/drive/MyDrive/mini_project_4_db/m4_pickle_files/KNNClassifier_VM.pkl','rb') as model:\n",
        "        knn_model=pickle.load(model)\n",
        "        vm_prediction=knn_model.predict(vm_pre_freatures)\n",
        "        st.header('Suggesting Visitmode')\n",
        "        sv=['Business', 'Couples', 'Family', 'Friends', 'Solo']\n",
        "        st.subheader(f\"{sv[vm_prediction[0]]}\")\n"
      ],
      "metadata": {
        "id": "ggvQdnzcYd9k"
      },
      "execution_count": null,
      "outputs": []
    },
    {
      "cell_type": "code",
      "source": [
        "from pyngrok import ngrok\n",
        "ngrok.kill()"
      ],
      "metadata": {
        "id": "VEnc-Qg4Y3yT"
      },
      "execution_count": null,
      "outputs": []
    },
    {
      "cell_type": "code",
      "source": [
        "!npm install localtunnel"
      ],
      "metadata": {
        "id": "dCGCHwRNY6r7"
      },
      "execution_count": null,
      "outputs": []
    },
    {
      "cell_type": "code",
      "source": [
        "!streamlit run /content/app.py &>/content/logs.txt & npx localtunnel --port 8501 & curl ipv4.icanhazip.com"
      ],
      "metadata": {
        "id": "fqaQdAA7Yd6i"
      },
      "execution_count": null,
      "outputs": []
    },
    {
      "cell_type": "markdown",
      "source": [
        "# ***Recommendation***"
      ],
      "metadata": {
        "id": "g0j633O6YIFc"
      }
    },
    {
      "cell_type": "code",
      "source": [
        "#Installing packages\n",
        "\n",
        "!pip install scikit-surprise\n",
        "# Uninstall current NumPy completely\n",
        "!pip uninstall -y numpy\n",
        "# Reinstall specific version\n",
        "!pip install numpy==1.23.5 --force-reinstall\n",
        "!pip install streamlit\n",
        "!pip install pyngrok"
      ],
      "metadata": {
        "collapsed": true,
        "id": "Px5uqu6IYPyX"
      },
      "execution_count": null,
      "outputs": []
    },
    {
      "cell_type": "code",
      "source": [
        "from surprise import Dataset, Reader, SVD\n",
        "from surprise.model_selection import cross_validate\n",
        "from sklearn.feature_extraction.text import TfidfVectorizer\n",
        "from sklearn.metrics.pairwise import cosine_similarity\n"
      ],
      "metadata": {
        "id": "0i_5G_AnYHxj"
      },
      "execution_count": null,
      "outputs": []
    },
    {
      "cell_type": "code",
      "source": [
        "%%writefile app.py\n",
        "import streamlit as st\n",
        "import pandas as pd\n",
        "import pickle\n",
        "from surprise import Dataset, Reader, SVD\n",
        "from surprise.model_selection import cross_validate\n",
        "\n",
        "col1, col2 = st.columns([0.7,0.7])\n",
        "\n",
        "with col1:\n",
        "    st.image(\"/content/drive/MyDrive/mini_project_4_db/m4_pickle_files/Tourism template.jpg\",width=600)\n",
        "with col2:\n",
        "    st.image(\"/content/drive/MyDrive/mini_project_4_db/m4_pickle_files/images_temp.jpg\",width=600)\n",
        "\n",
        "st.title('🤖Smart Travel Recommender✨')\n",
        "data=pd.read_csv('/content/drive/MyDrive/mini_project_4_db/m4_pickle_files/data.csv')\n",
        "fil_data = data[['Continent','Region','Country','Attraction','VisitMonth','VisitMode','CityName','Rating']]\n",
        "main_menu=fil_data.groupby(['Continent','Region','Country','Attraction','VisitMonth','VisitMode','CityName'])['Rating'].mean().reset_index()\n",
        "main_menu.drop('Region',axis=1,inplace=True)\n",
        "\n",
        "st.write(\"Discover your next dream destination! Our smart system recommends the best tourist spots based on your travel style, location, and ratings.\")\n",
        "st.subheader(\"How It Works\")\n",
        "st.markdown(\"\"\"\n",
        "1. 🎯 Select your preferences (Country, City, Mode of Visit).\n",
        "2. 🌍 View top-rated tourist places.\n",
        "3. 🧳 Save your favorite destinations and start planning!\n",
        "\"\"\")\n",
        "st.subheader(\"Key Features\")\n",
        "st.markdown(\"\"\"\n",
        "- 🚀 Real-time destination suggestions.\n",
        "- 🏖️ Personalized based on your choices.\n",
        "- 📊 Data-driven recommendations.\n",
        "- 🌟 Explore attractions by ratings, region, and season.\n",
        "\"\"\")\n",
        "\n",
        "st.sidebar.header(\"Recommender🌍\")\n",
        "options=st.sidebar.selectbox('',['Select_Type','Collaborative Filtering','Content-Based'])\n",
        "\n",
        "if options=='Collaborative Filtering':\n",
        "  st.header('Content-Based Recommendation')\n",
        "  #user related Recommendation\n",
        "  coll_rec = data[['UserId','CityId','Rating','CityName','Country']]\n",
        "\n",
        "  UserId = st.selectbox('UserId',data['UserId'].unique())\n",
        "\n",
        "# Load into Surprise format\n",
        "  reader = Reader(rating_scale=(1, 5))\n",
        "  data_surprise = Dataset.load_from_df(coll_rec[['UserId','CityId','Rating']], reader)\n",
        "  train_data=data_surprise.build_full_trainset()\n",
        "\n",
        "  with open('/content/drive/MyDrive/mini_project_4_db/m4_pickle_files/SVD.pkl','rb') as model:\n",
        "    svd_model=pickle.load(model)\n",
        "\n",
        "\n",
        "  def recommend_svd(user_id, n=10):\n",
        "    all_cities = coll_rec['CityId'].unique()\n",
        "    rated = coll_rec[coll_rec['UserId'] == user_id]['CityId'].tolist()\n",
        "    unrated = [city for city in all_cities if city not in rated]\n",
        "\n",
        "    preds = [svd_model.predict(user_id, cid) for cid in unrated]\n",
        "    preds.sort(key=lambda x: x.est, reverse=True)\n",
        "\n",
        "    top_cities = [pred.iid for pred in preds[:n]]\n",
        "    return coll_rec[coll_rec['CityId'].isin(top_cities)][['CityName', 'Country']].drop_duplicates()\n",
        "  predict_coll=st.button('Predict')\n",
        "  if predict_coll:\n",
        "    coll_output = recommend_svd(UserId)\n",
        "    st.header(\"Recommended Places\")\n",
        "    st.write(coll_output)\n",
        "\n",
        "if options=='Content-Based':\n",
        "    st.header('Content-Based Recommendation')\n",
        "    content_rec=data[['CityName','VisitMode','AttractionType','Attraction','Country']].value_counts().reset_index()\n",
        "    content_rec['rec_data'] =  content_rec['AttractionType'] + ' ' + content_rec['Attraction'] + ' ' + content_rec['Country']\n",
        "    from sklearn.feature_extraction.text import TfidfVectorizer\n",
        "\n",
        "    tfid = TfidfVectorizer()\n",
        "\n",
        "    x_rec = tfid.fit_transform(content_rec['rec_data'] )\n",
        "    from sklearn.metrics.pairwise import cosine_similarity\n",
        "\n",
        "    co_sim = cosine_similarity(x_rec,x_rec)\n",
        "    def recommend_place(AttractionType):\n",
        "        idx = content_rec[content_rec['AttractionType']==AttractionType].index\n",
        "        idx=idx[0]\n",
        "        sim = list(enumerate(co_sim[idx]))\n",
        "        sim = sorted(sim,key=lambda x:x[1],reverse=True)[:50]\n",
        "        att=[i[0] for i in sim]\n",
        "        return content_rec.iloc[att][['CityName','VisitMode','Country']]\n",
        "    att=data['AttractionType'].unique()\n",
        "    att_input=st.selectbox('SelectAttractionType',att)\n",
        "    predict_content = st.button('Predict')\n",
        "    if predict_content:\n",
        "      att_output=recommend_place(att_input)\n",
        "      st.header(\"Recommended Places\")\n",
        "      st.write(att_output)\n",
        "\n",
        "st.sidebar.header(\"Tourist Place Directory\")\n",
        "\n",
        "continent_list = main_menu['Continent'].unique()\n",
        "country_list = main_menu['Country'].unique()\n",
        "country_list.sort()\n",
        "attraction_list = main_menu['Attraction'].unique()\n",
        "visitmonth_list = main_menu['VisitMonth'].unique()\n",
        "visitmonth_list.sort()\n",
        "visitmode_list = main_menu['VisitMode'].unique()\n",
        "\n",
        "\n",
        "country = st.sidebar.selectbox(\"Country\",country_list)\n",
        "visitmonth = st.sidebar.selectbox(\"VisitMonth\",visitmonth_list)\n",
        "visitmode = st.sidebar.selectbox(\"VisitMode\",visitmode_list)\n",
        "\n",
        "show = st.sidebar.button('Show Places')\n",
        "if show:\n",
        "    filtered_data = main_menu[(main_menu['Country']==country) & (main_menu['VisitMonth']==visitmonth) & (main_menu['VisitMode']==visitmode)]\n",
        "    st.header(\"Recommended Places\")\n",
        "    st.write(filtered_data)\n"
      ],
      "metadata": {
        "id": "4LFiEQLaZYt4"
      },
      "execution_count": null,
      "outputs": []
    },
    {
      "cell_type": "code",
      "source": [
        "from pyngrok import ngrok\n",
        "ngrok.kill()"
      ],
      "metadata": {
        "id": "eESLCpwpduDx"
      },
      "execution_count": null,
      "outputs": []
    },
    {
      "cell_type": "code",
      "source": [
        "!npm install localtunnel"
      ],
      "metadata": {
        "id": "z8Q5AL9mdxUO"
      },
      "execution_count": null,
      "outputs": []
    },
    {
      "cell_type": "code",
      "source": [
        "!streamlit run /content/app.py &>/content/logs.txt & npx localtunnel --port 8501 & curl ipv4.icanhazip.com"
      ],
      "metadata": {
        "id": "VCuAEpoYd1PM"
      },
      "execution_count": null,
      "outputs": []
    }
  ]
}
