{
  "cells": [
    {
      "cell_type": "markdown",
      "metadata": {
        "id": "zPxL13x0a1Z1"
      },
      "source": [
        "# **Required Packages**"
      ]
    },
    {
      "cell_type": "code",
      "execution_count": null,
      "metadata": {
        "id": "zKj6AfvHWNoY",
        "collapsed": true
      },
      "outputs": [],
      "source": [
        "import pandas as pd\n",
        "import pickle\n",
        "from sklearn.preprocessing import LabelEncoder\n",
        "import plotly.express as px\n",
        "import seaborn as sns\n",
        "import matplotlib.pyplot as plt\n",
        "from sklearn.model_selection import train_test_split\n",
        "from lightgbm import LGBMRegressor\n",
        "from sklearn.linear_model import LinearRegression\n",
        "from sklearn.linear_model import Ridge,Lasso\n",
        "from sklearn.neighbors import KNeighborsRegressor\n",
        "from sklearn.tree import  DecisionTreeRegressor\n",
        "from sklearn.ensemble import RandomForestRegressor\n",
        "from sklearn.model_selection import GridSearchCV\n",
        "from sklearn.metrics import mean_absolute_error\n",
        "from sklearn.metrics import r2_score\n",
        "from sklearn.linear_model import LogisticRegression\n",
        "from sklearn.neighbors import KNeighborsClassifier\n",
        "from sklearn.tree import DecisionTreeClassifier\n",
        "from sklearn.ensemble import RandomForestClassifier\n",
        "from sklearn.metrics import classification_report\n",
        "import sqlite3\n",
        "from surprise import Dataset, Reader, SVD\n",
        "from surprise.model_selection import cross_validate\n",
        "from sklearn.feature_extraction.text import TfidfVectorizer\n",
        "from sklearn.metrics.pairwise import cosine_similarity\n"
      ]
    },
    {
      "cell_type": "markdown",
      "metadata": {
        "id": "Aiwcb2CO6ois"
      },
      "source": [
        "# **Data collection**"
      ]
    },
    {
      "cell_type": "code",
      "execution_count": null,
      "metadata": {
        "id": "BmRxUeUc0IRP"
      },
      "outputs": [],
      "source": [
        "# Reading data from drive\n",
        "\n",
        "city_df = pd.read_excel('/content/drive/MyDrive/mini_project_4_db/City.xlsx')\n",
        "\n",
        "continent_df = pd.read_excel(\"/content/drive/MyDrive/mini_project_4_db/Continent.xlsx\")\n",
        "\n",
        "country_df = pd.read_excel(\"/content/drive/MyDrive/mini_project_4_db/Country.xlsx\")\n",
        "\n",
        "item_df = pd.read_excel(\"/content/drive/MyDrive/mini_project_4_db/Updated_Item.xlsx\")\n",
        "\n",
        "mode_df = pd.read_excel(\"/content/drive/MyDrive/mini_project_4_db/Mode.xlsx\")\n",
        "\n",
        "region_df = pd.read_excel(\"/content/drive/MyDrive/mini_project_4_db/Region.xlsx\")\n",
        "\n",
        "transaction_df = pd.read_excel(\"/content/drive/MyDrive/mini_project_4_db/Transaction.xlsx\")\n",
        "\n",
        "type_df = pd.read_excel(\"/content/drive/MyDrive/mini_project_4_db/Type.xlsx\")\n",
        "\n",
        "user_df = pd.read_excel(\"/content/drive/MyDrive/mini_project_4_db/User.xlsx\")\n"
      ]
    },
    {
      "cell_type": "code",
      "execution_count": null,
      "metadata": {
        "id": "MTqYEDu70Jxz"
      },
      "outputs": [],
      "source": [
        "# Merging Dataframes\n",
        "\n",
        "df_merged1 = pd.merge(transaction_df, user_df, on='UserId', how='left')\n",
        "df_merged2 = pd.merge(df_merged1, region_df[['Region','RegionId']], on='RegionId', how='left')\n",
        "df_merged3 = pd.merge(df_merged2, item_df, on='AttractionId', how='left')\n",
        "df_merged4 = pd.merge(df_merged3, country_df[['CountryId','Country']], on='CountryId', how='left')\n",
        "df_merged5 = pd.merge(df_merged4, continent_df, on='ContinentId', how='left')\n",
        "df_merged6 = pd.merge(df_merged5, city_df[['CityId','CityName']], on='CityId', how='left')\n",
        "df_merged7 = pd.merge(df_merged6, type_df, on='AttractionTypeId', how='left')\n",
        "df_merged7.rename(columns={'VisitMode': 'VisitModeId'}, inplace=True)\n",
        "main_data = pd.merge(df_merged7, mode_df, on='VisitModeId', how='left')"
      ]
    },
    {
      "cell_type": "code",
      "execution_count": null,
      "metadata": {
        "collapsed": true,
        "id": "tmHEcpvW-3xZ"
      },
      "outputs": [],
      "source": [
        "#Checking Na values\n",
        "\n",
        "main_data.isna().sum()"
      ]
    },
    {
      "cell_type": "code",
      "execution_count": null,
      "metadata": {
        "id": "-xdAR6vjpwHh",
        "collapsed": true
      },
      "outputs": [],
      "source": [
        "main_data.describe()"
      ]
    },
    {
      "cell_type": "code",
      "execution_count": null,
      "metadata": {
        "id": "EFroLMY3VJEw"
      },
      "outputs": [],
      "source": [
        "main_data.dropna(inplace=True)"
      ]
    },
    {
      "cell_type": "code",
      "execution_count": null,
      "metadata": {
        "id": "nI_WmtpWWtvd",
        "collapsed": true
      },
      "outputs": [],
      "source": [
        "main_data.info()"
      ]
    },
    {
      "cell_type": "markdown",
      "metadata": {
        "id": "SLr3lyiodnkU"
      },
      "source": [
        "# **Transferring Data to SQL**"
      ]
    },
    {
      "cell_type": "code",
      "execution_count": null,
      "metadata": {
        "id": "ZiPmlARVdmyj",
        "collapsed": true
      },
      "outputs": [],
      "source": [
        "import sqlite3\n",
        "conn = sqlite3.connect('my_database.db')  # .db file will be created\n",
        "cursor = conn.cursor()\n",
        "main_data.to_sql('tourist_data', conn, if_exists='append', index=False)"
      ]
    },
    {
      "cell_type": "markdown",
      "metadata": {
        "id": "MRdiCGUI9Hhx"
      },
      "source": [
        "# **Pre-proccessig**"
      ]
    },
    {
      "cell_type": "code",
      "execution_count": null,
      "metadata": {
        "id": "6lrZQ3nb0U4p"
      },
      "outputs": [],
      "source": [
        "# Dropping unwanted columns\n",
        "\n",
        "main_data_ml = main_data.drop('AttractionAddress',axis=1)"
      ]
    },
    {
      "cell_type": "code",
      "execution_count": null,
      "metadata": {
        "id": "E8FVSGya0UHl"
      },
      "outputs": [],
      "source": [
        "#Encoding columns with object datatype\n",
        "\n",
        "categorical_cols = main_data_ml.select_dtypes(include='object').columns.tolist()\n",
        "label_encoders = {}\n",
        "\n",
        "for col in categorical_cols:\n",
        "    le = LabelEncoder()\n",
        "    main_data_ml[col] = le.fit_transform(main_data_ml[col])\n",
        "    label_encoders[col] = le"
      ]
    },
    {
      "cell_type": "code",
      "execution_count": null,
      "metadata": {
        "id": "9WKDa5PiBdO5"
      },
      "outputs": [],
      "source": [
        "# save the encoder\n",
        "\n",
        "with open(\"label_encoder.pkl\",'wb') as encoder_file:\n",
        "  pickle.dump(label_encoders,encoder_file)"
      ]
    },
    {
      "cell_type": "markdown",
      "metadata": {
        "id": "08XhBYr69_Qp"
      },
      "source": [
        "# **EDA**"
      ]
    },
    {
      "cell_type": "code",
      "execution_count": null,
      "metadata": {
        "id": "Ef15WOUoGOoV"
      },
      "outputs": [],
      "source": [
        "#Distribution across continents, countries, and regions."
      ]
    },
    {
      "cell_type": "code",
      "execution_count": null,
      "metadata": {
        "id": "NcEUY5t70U1D"
      },
      "outputs": [],
      "source": [
        "distribution_continent= main_data['Continent'].value_counts().reset_index(name='Visit_count')\n",
        "fig = px.bar(distribution_continent,'Continent','Visit_count',title=\"Distribution across Continent\",color='Continent')\n",
        "fig.show()"
      ]
    },
    {
      "cell_type": "code",
      "execution_count": null,
      "metadata": {
        "id": "MEwRnaMh0Uxl"
      },
      "outputs": [],
      "source": [
        "distribution_country = main_data['Country'].value_counts().reset_index(name='Visit_count')\n",
        "fig = px.bar(distribution_country,'Country','Visit_count',title=\"Distribution across country\",color='Country')\n",
        "fig.show()\n"
      ]
    },
    {
      "cell_type": "code",
      "execution_count": null,
      "metadata": {
        "id": "i0rJ0h2o0Ut7"
      },
      "outputs": [],
      "source": [
        "distribution_region= main_data['Region'].value_counts().reset_index(name='Visit_count')\n",
        "fig = px.bar(distribution_region,'Region','Visit_count',title=\"Distribution across Region\",color='Region')\n",
        "fig.show()"
      ]
    },
    {
      "cell_type": "code",
      "execution_count": null,
      "metadata": {
        "id": "CEsui_3K0Uq5"
      },
      "outputs": [],
      "source": [
        "#attraction types and their popularity based on user ratings\n",
        "\n",
        "popular_att = main_data[['AttractionType','Rating']]"
      ]
    },
    {
      "cell_type": "code",
      "execution_count": null,
      "metadata": {
        "id": "dYEA_4re0Unl"
      },
      "outputs": [],
      "source": [
        "pop_att = popular_att.groupby(\"AttractionType\")['Rating'].value_counts().reset_index(name='No_Users')"
      ]
    },
    {
      "cell_type": "code",
      "execution_count": null,
      "metadata": {
        "id": "qVbnb6yA0Ukc"
      },
      "outputs": [],
      "source": [
        "rating = px.bar(pop_att,'AttractionType','No_Users',hover_data='Rating',color='Rating')\n",
        "rating.show()"
      ]
    },
    {
      "cell_type": "code",
      "execution_count": null,
      "metadata": {
        "id": "bo1mgLatG1fY"
      },
      "outputs": [],
      "source": [
        "#Correlation"
      ]
    },
    {
      "cell_type": "code",
      "execution_count": null,
      "metadata": {
        "id": "oBc7JF4E0Uha"
      },
      "outputs": [],
      "source": [
        "correlation = main_data_ml[['UserId','ContinentId','Continent', 'VisitYear', 'VisitMonth','RegionId','Region', 'AttractionCityId', 'AttractionTypeId',\n",
        "                         'Attraction','AttractionType','CountryId','Country','CityId', 'CityName','VisitModeId','VisitMode','Rating']]\n"
      ]
    },
    {
      "cell_type": "code",
      "execution_count": null,
      "metadata": {
        "id": "qApmKZiy0Ud3",
        "collapsed": true
      },
      "outputs": [],
      "source": [
        "# Plot heatmap for correlation\n",
        "plt.figure(figsize=(20,20))\n",
        "sns.heatmap(correlation.corr(), annot=True,vmax=1,vmin=-1)\n",
        "plt.title(\"Correlation Heatmap\")\n",
        "plt.show()"
      ]
    },
    {
      "cell_type": "code",
      "execution_count": null,
      "metadata": {
        "id": "nhJo_HgjG-Nc"
      },
      "outputs": [],
      "source": [
        "#Distribution of ratings across different attractions and regions"
      ]
    },
    {
      "cell_type": "code",
      "execution_count": null,
      "metadata": {
        "id": "WquTT5fV0UYc"
      },
      "outputs": [],
      "source": [
        "att_reg_rat = main_data[['Attraction','Region','Rating']]\n"
      ]
    },
    {
      "cell_type": "code",
      "execution_count": null,
      "metadata": {
        "id": "9e7TKdQN0UUH"
      },
      "outputs": [],
      "source": [
        "rating_filter = att_reg_rat.groupby(['Attraction','Region'])['Rating'].value_counts().reset_index(name='ratted_users').sort_values(by=\"ratted_users\", ascending=False)"
      ]
    },
    {
      "cell_type": "code",
      "execution_count": null,
      "metadata": {
        "id": "OYF85sN50URI"
      },
      "outputs": [],
      "source": [
        "fig = px.bar(rating_filter,'Region','Rating',hover_data=['Attraction','ratted_users'],color='Rating')\n",
        "fig.show()"
      ]
    },
    {
      "cell_type": "markdown",
      "metadata": {
        "id": "IzIV0ZQE9Ssk"
      },
      "source": [
        "# **Machine Learning**"
      ]
    },
    {
      "cell_type": "markdown",
      "metadata": {
        "id": "hokkXIQz9Xvg"
      },
      "source": [
        "# *Regression*"
      ]
    },
    {
      "cell_type": "code",
      "execution_count": null,
      "metadata": {
        "id": "hTT-_tbF0UEm"
      },
      "outputs": [],
      "source": [
        "reg_mod_df = main_data_ml[[ 'VisitMonth', 'CityName','Attraction','VisitMode','Rating']]"
      ]
    },
    {
      "cell_type": "code",
      "execution_count": null,
      "metadata": {
        "id": "C3lwkSjT0UBP"
      },
      "outputs": [],
      "source": [
        "# Features and target\n",
        "\n",
        "x =reg_mod_df.drop(columns='Rating',axis=1)\n",
        "y =reg_mod_df['Rating']"
      ]
    },
    {
      "cell_type": "code",
      "source": [
        "# Splitting data into train and test\n",
        "\n",
        "x_train,x_test,y_train,y_test=train_test_split(x,y,test_size=0.2,random_state=0)"
      ],
      "metadata": {
        "id": "rb8rZaNg0ad2"
      },
      "execution_count": null,
      "outputs": []
    },
    {
      "cell_type": "code",
      "execution_count": null,
      "metadata": {
        "id": "U0EBgvRr0T9g"
      },
      "outputs": [],
      "source": [
        "# Splitting data into train and test\n",
        "\n",
        "x_train,x_test,y_train,y_test=train_test_split(x,y,test_size=0.2,random_state=0)"
      ]
    },
    {
      "cell_type": "code",
      "execution_count": null,
      "metadata": {
        "id": "4zjlztwb0T3r"
      },
      "outputs": [],
      "source": [
        "#LGBMRegressor\n",
        "lgm = LGBMRegressor()\n",
        "lgm.fit(x_train,y_train)"
      ]
    },
    {
      "cell_type": "code",
      "execution_count": null,
      "metadata": {
        "id": "CYov4NWy49P-"
      },
      "outputs": [],
      "source": [
        "#LinearRegression\n",
        "\n",
        "lr=LinearRegression()\n",
        "lr.fit(x_train,y_train)"
      ]
    },
    {
      "cell_type": "code",
      "execution_count": null,
      "metadata": {
        "id": "qRml4Ltn49IJ"
      },
      "outputs": [],
      "source": [
        "#Ridge,Lasso\n",
        "\n",
        "ridge_model = Ridge(alpha=1.0)\n",
        "lasso_model = Lasso(alpha=1.0)\n",
        "ridge_model.fit(x_train, y_train)\n",
        "lasso_model.fit(x_train, y_train)"
      ]
    },
    {
      "cell_type": "code",
      "execution_count": null,
      "metadata": {
        "id": "wCm_zMhG48_9"
      },
      "outputs": [],
      "source": [
        "#KNeighborsRegressor\n",
        "\n",
        "KNN=KNeighborsRegressor(n_neighbors=20)\n",
        "KNN.fit(x_train,y_train)"
      ]
    },
    {
      "cell_type": "code",
      "execution_count": null,
      "metadata": {
        "id": "zVzXRwsv5ulb"
      },
      "outputs": [],
      "source": [
        "#DecisionTreeRegressor model\n",
        "\n",
        "dtr=DecisionTreeRegressor()\n",
        "dtr.fit(x_train,y_train)"
      ]
    },
    {
      "cell_type": "code",
      "execution_count": null,
      "metadata": {
        "id": "sEFDLfaDmjlV"
      },
      "outputs": [],
      "source": [
        "#RandomForestRegressor\n",
        "rfc=RandomForestRegressor(n_estimators=1000, max_depth=100, min_samples_split=100, min_samples_leaf=20,  max_features='sqrt', bootstrap=True)\n",
        "rfc.fit(x_train,y_train)"
      ]
    },
    {
      "cell_type": "code",
      "execution_count": null,
      "metadata": {
        "id": "e3_lsoEM5ucz"
      },
      "outputs": [],
      "source": [
        "#Hyperparameter tuning\n",
        "\n",
        "linear_param={'fit_intercept':[True,False]}\n",
        "\n",
        "decision_param={\"splitter\":['best', 'random'],\"max_depth\":[None,5,10,15,20],\"min_samples_split\":[2,3,4,5,6,7,8,10]}\n",
        "\n",
        "knn_param={'n_neighbors':[5,7,9,12,15,18,20],\"weights\":['uniform','distance']}\n",
        "\n",
        "#Creating multiple models\n",
        "\n",
        "grid_search_lr=GridSearchCV(lr,linear_param,cv=5)\n",
        "grid_search_dtr=GridSearchCV(dtr,decision_param,cv=5)\n",
        "grid_search_KNN=GridSearchCV(KNN,knn_param,cv=5)\n",
        "\n",
        "#Training multiple models\n",
        "\n",
        "grid_search_lr.fit(x_train,y_train)\n",
        "grid_search_dtr.fit(x_train,y_train)\n",
        "grid_search_KNN.fit(x_train,y_train)"
      ]
    },
    {
      "cell_type": "code",
      "execution_count": null,
      "metadata": {
        "id": "rzuJP1Yd5uLb"
      },
      "outputs": [],
      "source": [
        "# Evaluation metrics\n",
        "\n",
        "y_pred_lr=lr.predict(x_test)\n",
        "lr_score=lr.score(x_test,y_test)\n",
        "linear_mae=mean_absolute_error(y_test,y_pred_lr)\n",
        "r2_lr = r2_score(y_test,y_pred_lr)\n",
        "\n",
        "y_pred_rm=ridge_model.predict(x_test)\n",
        "rm_score=ridge_model.score(x_test,y_test)\n",
        "rm_mae=mean_absolute_error(y_test,y_pred_rm)\n",
        "r2_rm = r2_score(y_test,y_pred_rm)\n",
        "\n",
        "y_pred_lm=lasso_model.predict(x_test)\n",
        "lm_score=lasso_model.score(x_test,y_test)\n",
        "lm_mae=mean_absolute_error(y_test,y_pred_lm)\n",
        "r2_lm = r2_score(y_test,y_pred_lm)\n",
        "\n",
        "y_pred_knn=KNN.predict(x_test)\n",
        "KNN_score=KNN.score(x_test,y_test)\n",
        "knn_mae=mean_absolute_error(y_test,y_pred_knn)\n",
        "r2_knn = r2_score(y_test,y_pred_knn)\n",
        "\n",
        "y_pred_dtr=dtr.predict(x_test)\n",
        "dtr_score=dtr.score(x_test,y_test)\n",
        "dtr_mae=mean_absolute_error(y_test,y_pred_dtr)\n",
        "r2_dtr = r2_score(y_test,y_pred_dtr)\n",
        "\n",
        "y_pred_rfc=rfc.predict(x_test)\n",
        "rfc_score=rfc.score(x_test,y_test)\n",
        "rfc_mae=mean_absolute_error(y_test,y_pred_rfc)\n",
        "r2_rfc = r2_score(y_test,y_pred_rfc)\n",
        "\n",
        "y_pref_lgm = lgm.predict(x_test)\n",
        "lgm_score=lgm.score(x_test,y_test)\n",
        "lgm_mae=mean_absolute_error(y_test,y_pref_lgm)\n",
        "r2_lgm = r2_score(y_test,y_pref_lgm)\n",
        "\n",
        "print(f\"Linear regression \\n r2 score : {r2_lr}\\n mae : {linear_mae} \\nRidge model \\n r2 score : {r2_rm}\\n mae : {rm_mae}  \\nlasso_model \\n r2 score : {r2_lm} \\n mae : {lm_mae} \\nKNN model \\n r2 score : {r2_knn}\\n mae : {knn_mae} \\nDecision tree  \\n r2 score : {r2_dtr}\\n mae : {dtr_mae} \\nRandom forest \\n r2 score : {r2_rfc} \\n mae : {rfc_mae} \\nLGM \\n r2 score : {r2_lgm}\\n mae : {lgm_mae}\")"
      ]
    },
    {
      "cell_type": "code",
      "execution_count": null,
      "metadata": {
        "id": "w8y7GjnjrMF7",
        "collapsed": true
      },
      "outputs": [],
      "source": [
        "#classification\n",
        "\n",
        "log_param_reg={\n",
        "            'C': [0.1,1, 10],\n",
        "            'penalty': ['l1', 'l2']\n",
        "        }\n",
        "\n",
        "dtc_param_reg={\n",
        "            'max_depth': [None,10, 20],\n",
        "            'min_samples_split': [2, 5]\n",
        "        }\n",
        "\n",
        "knnc_param_reg={\n",
        "            'n_neighbors': [5,10,20],\n",
        "            'weights': ['uniform', 'distance']}\n",
        "rfc_param_reg ={ 'n_estimators': [50,100,200],\n",
        "            'max_depth': [None,10,20],\n",
        "            \"min_samples_split\":[5,6,7,8,10]}\n",
        "#Creating multiple models\n",
        "\n",
        "re_log=LogisticRegression()\n",
        "reg_dtc=DecisionTreeClassifier()\n",
        "reg_knnc=KNeighborsClassifier()\n",
        "reg_rfc=RandomForestClassifier()\n",
        "\n",
        "grid_search_log_reg=GridSearchCV(re_log,log_param_reg,cv=5)\n",
        "grid_search_dtc_reg=GridSearchCV(reg_dtc,dtc_param_reg,cv=5)\n",
        "grid_search_KNNC_reg=GridSearchCV(reg_knnc,knnc_param_reg,cv=5)\n",
        "grid_search_rfc_reg=GridSearchCV(reg_rfc,rfc_param_reg,cv=5)\n",
        "\n",
        "\n",
        "#Training multiple models\n",
        "\n",
        "grid_search_log_reg.fit(x_train,y_train)\n",
        "grid_search_dtc_reg.fit(x_train,y_train)\n",
        "grid_search_KNNC_reg.fit(x_train,y_train)\n",
        "grid_search_rfc_reg.fit(x_train,y_train)"
      ]
    },
    {
      "cell_type": "code",
      "execution_count": null,
      "metadata": {
        "id": "mlTH-pkUymy7",
        "collapsed": true
      },
      "outputs": [],
      "source": [
        "# Evaluation metrics\n",
        "\n",
        "y_pred_log_reg=grid_search_log_reg.predict(x_test)\n",
        "log_reg_rep=classification_report(y_test,y_pred_log_reg)\n",
        "\n",
        "\n",
        "y_pred_knnc_reg=grid_search_KNNC_reg.predict(x_test)\n",
        "knnc_reg_rep=classification_report(y_test,y_pred_knnc_reg)\n",
        "\n",
        "\n",
        "y_pred_dtc_reg=grid_search_dtc_reg.predict(x_test)\n",
        "dtc_reg_rep=classification_report(y_test,y_pred_dtc_reg)\n",
        "\n",
        "\n",
        "y_pred_rfc_reg=grid_search_rfc_reg.predict(x_test)\n",
        "rfclass_reg_rep=classification_report(y_test,y_pred_rfc_reg)\n",
        "\n",
        "print(f\"Logistic regression \\n{log_reg_rep} \\nKNN Classifier \\n {knnc_reg_rep} \\nDecision tree Classifier \\n {dtc_reg_rep} \\nRandom forest Classifier \\n {rfclass_reg_rep} \")"
      ]
    },
    {
      "cell_type": "code",
      "execution_count": null,
      "metadata": {
        "id": "XebqcWTT7RgE"
      },
      "outputs": [],
      "source": [
        "#Finalized model for classification\n",
        "\n",
        "Final_RFC_ratings=RandomForestClassifier(max_depth=10, min_samples_split=6, n_estimators=50)\n",
        "Final_RFC_ratings.fit(x_train,y_train)"
      ]
    },
    {
      "cell_type": "code",
      "execution_count": null,
      "metadata": {
        "id": "EehMVGQf71JT",
        "collapsed": true
      },
      "outputs": [],
      "source": [
        "#Final report\n",
        "\n",
        "y_pred_FRR=Final_RFC_ratings.predict(x_test)\n",
        "print(classification_report(y_test,y_pred_FRR))"
      ]
    },
    {
      "cell_type": "code",
      "execution_count": null,
      "metadata": {
        "id": "EZ65G8QNz1it"
      },
      "outputs": [],
      "source": [
        "# Save the model\n",
        "\n",
        "with open(\"RFC_Ratings.pkl\",'wb') as RFC_file:\n",
        "    pickle.dump(Final_RFC_ratings,RFC_file)"
      ]
    },
    {
      "cell_type": "markdown",
      "metadata": {
        "id": "SBgcyMsq9jA4"
      },
      "source": [
        "# *Classification*"
      ]
    },
    {
      "cell_type": "code",
      "execution_count": null,
      "metadata": {
        "collapsed": true,
        "id": "Zzcr8xeu5uB4"
      },
      "outputs": [],
      "source": [
        "class_data = main_data_ml[['VisitYear','VisitMonth','Rating','Attraction','AttractionType','CityName','Country','VisitMode']]\n"
      ]
    },
    {
      "cell_type": "code",
      "execution_count": null,
      "metadata": {
        "id": "AB_0Ysv05t9J"
      },
      "outputs": [],
      "source": [
        "# Features and target\n",
        "\n",
        "x_class = class_data.drop('VisitMode',axis=1)\n",
        "y_class = class_data['VisitMode']"
      ]
    },
    {
      "cell_type": "code",
      "execution_count": null,
      "metadata": {
        "id": "h7O9GmFR5t5N"
      },
      "outputs": [],
      "source": [
        "# Splitting data into train and test\n",
        "\n",
        "x_train_class,x_test_class,y_train_class,y_test_class = train_test_split(x_class,y_class,test_size=0.2,random_state=42)"
      ]
    },
    {
      "cell_type": "code",
      "execution_count": null,
      "metadata": {
        "id": "GH7kRVt1lN7t",
        "collapsed": true
      },
      "outputs": [],
      "source": [
        "# Hyperparameter Tuning\n",
        "\n",
        "log_param={\n",
        "            'C': [0.1, 1, 10],\n",
        "            'penalty': ['l1', 'l2']\n",
        "        }\n",
        "\n",
        "dtc_param={\n",
        "            'max_depth': [None, 10, 20],\n",
        "            'min_samples_split': [2, 5]\n",
        "        }\n",
        "\n",
        "knnc_param={\n",
        "            'n_neighbors': [3, 5, 7,10,12,15,20],\n",
        "            'weights': ['uniform', 'distance']}\n",
        "rfc_param ={ 'n_estimators': [50, 100],\n",
        "            'max_depth': [None, 10, 20],\n",
        "            'min_samples_split': [2, 5]}\n",
        "#Creating multiple models\n",
        "\n",
        "g_log=LogisticRegression()\n",
        "g_dtc=DecisionTreeClassifier()\n",
        "g_knnc=KNeighborsClassifier()\n",
        "g_rfc=RandomForestClassifier()\n",
        "\n",
        "grid_search_log=GridSearchCV(g_log,log_param,cv=5)\n",
        "grid_search_dtc=GridSearchCV(g_dtc,dtc_param,cv=5)\n",
        "grid_search_KNNC=GridSearchCV(g_knnc,knnc_param,cv=5)\n",
        "grid_search_rfc=GridSearchCV(g_rfc,rfc_param,cv=5)\n",
        "\n",
        "#Training multiple models\n",
        "\n",
        "grid_search_log.fit(x_train_class,y_train_class)\n",
        "grid_search_dtc.fit(x_train_class,y_train_class)\n",
        "grid_search_KNNC.fit(x_train_class,y_train_class)\n",
        "grid_search_rfc.fit(x_train_class,y_train_class)"
      ]
    },
    {
      "cell_type": "code",
      "execution_count": null,
      "metadata": {
        "id": "GSGntV_q5ts9"
      },
      "outputs": [],
      "source": [
        "#KNeighborsClassifier\n",
        "knn_class=KNeighborsClassifier(n_neighbors=20, weights='distance')\n",
        "knn_class.fit(x_train_class,y_train_class)"
      ]
    },
    {
      "cell_type": "code",
      "execution_count": null,
      "metadata": {
        "id": "nqBkQ-Qa5to1"
      },
      "outputs": [],
      "source": [
        "#DecisionTreeClassifier\n",
        "\n",
        "dtc=DecisionTreeClassifier(max_depth=10)\n",
        "dtc.fit(x_train_class,y_train_class)"
      ]
    },
    {
      "cell_type": "code",
      "execution_count": null,
      "metadata": {
        "id": "SceuEcLj5tk3"
      },
      "outputs": [],
      "source": [
        "# RandomForestClassifier\n",
        "\n",
        "gs_rfc=RandomForestClassifier(max_depth=10, min_samples_split=5, n_estimators=50)\n",
        "gs_rfc.fit(x_train_class,y_train_class)"
      ]
    },
    {
      "cell_type": "code",
      "execution_count": null,
      "metadata": {
        "id": "y7zrAHes5tg0"
      },
      "outputs": [],
      "source": [
        "# Evaluation metrics\n",
        "\n",
        "#y_pred_log=g_log.predict(x_test_class)\n",
        "#log_rep=classification_report(y_test_class,y_pred_log)\n",
        "\n",
        "\n",
        "y_pred_knnc=knn_class.predict(x_test_class)\n",
        "knnc_rep=classification_report(y_test_class,y_pred_knnc)\n",
        "\n",
        "\n",
        "y_pred_dtc=dtc.predict(x_test_class)\n",
        "dtc_rep=classification_report(y_test_class,y_pred_dtc)\n",
        "\n",
        "\n",
        "y_pred_rfclass=gs_rfc.predict(x_test_class)\n",
        "rfclass_rep=classification_report(y_test_class,y_pred_rfclass)\n",
        "\n",
        "print(f\"KNN Classifier \\n {knnc_rep} \\nDecision tree Classifier \\n {dtc_rep} \\nRandom forest Classifier \\n {rfclass_rep} \")"
      ]
    },
    {
      "cell_type": "code",
      "execution_count": null,
      "metadata": {
        "id": "04wscWLB_LyS"
      },
      "outputs": [],
      "source": [
        "#Finalized model\n",
        "\n",
        "from sklearn.neighbors import KNeighborsClassifier\n",
        "knn_class=KNeighborsClassifier(n_neighbors=20, weights='distance')\n",
        "knn_class.fit(x_train_class,y_train_class)"
      ]
    },
    {
      "cell_type": "code",
      "execution_count": null,
      "metadata": {
        "id": "lNr22Qt1_W62"
      },
      "outputs": [],
      "source": [
        "# Save the model\n",
        "\n",
        "with open(\"KNNClassifier_VM.pkl\",'wb') as KNN_file:\n",
        "    pickle.dump(knn_class,KNN_file)"
      ]
    },
    {
      "cell_type": "markdown",
      "metadata": {
        "id": "heouN4LC9pJI"
      },
      "source": [
        "# ***Recommendation***"
      ]
    },
    {
      "cell_type": "code",
      "execution_count": null,
      "metadata": {
        "id": "OC6QLpnr48yR"
      },
      "outputs": [],
      "source": [
        "#Collaborative Filtering"
      ]
    },
    {
      "cell_type": "code",
      "execution_count": null,
      "metadata": {
        "id": "I1LUnUxH48uF"
      },
      "outputs": [],
      "source": [
        "#user related recommentation\n",
        "\n",
        "coll_rec = main_data[['UserId','CityId','Rating','CityName','Country']]"
      ]
    },
    {
      "cell_type": "code",
      "execution_count": null,
      "metadata": {
        "id": "46Zpc7It48p3"
      },
      "outputs": [],
      "source": [
        "# Load into Surprise format\n",
        "reader = Reader(rating_scale=(1, 5))\n",
        "data_surprise = Dataset.load_from_df(coll_rec[['UserId','CityId','Rating']], reader)\n",
        "train_data=data_surprise.build_full_trainset()\n",
        "\n",
        "model = SVD()\n",
        "model.fit(train_data)\n",
        "\n",
        "model_results = cross_validate(model,data_surprise,measures=['RMSE','MAE'],cv=5,verbose=True)\n"
      ]
    },
    {
      "cell_type": "code",
      "execution_count": null,
      "metadata": {
        "id": "-ji5zpEpESnl"
      },
      "outputs": [],
      "source": [
        "with open(\"SVD.pkl\",'wb') as SVD_file:\n",
        "    pickle.dump(model,SVD_file)"
      ]
    },
    {
      "cell_type": "code",
      "execution_count": null,
      "metadata": {
        "id": "dR4bWkKSfuqn"
      },
      "outputs": [],
      "source": [
        "def recommend_svd(user_id, n=10):\n",
        "    all_cities = coll_rec['CityId'].unique()\n",
        "    rated = coll_rec[coll_rec['UserId'] == user_id]['CityId'].tolist()\n",
        "    unrated = [city for city in all_cities if city not in rated]\n",
        "\n",
        "    preds = [model.predict(user_id, cid) for cid in unrated]\n",
        "    preds.sort(key=lambda x: x.est, reverse=True)\n",
        "\n",
        "    top_cities = [pred.iid for pred in preds[:n]]\n",
        "    return coll_rec[coll_rec['CityId'].isin(top_cities)][['CityName', 'Country']].drop_duplicates()\n"
      ]
    },
    {
      "cell_type": "code",
      "execution_count": null,
      "metadata": {
        "id": "ud-13KJjiYss"
      },
      "outputs": [],
      "source": [
        "#Content-Based Filtering"
      ]
    },
    {
      "cell_type": "code",
      "execution_count": null,
      "metadata": {
        "id": "Qu4tkZNmQi0J"
      },
      "outputs": [],
      "source": [
        "content_rec=main_data[['CityName','VisitMode','AttractionType','Attraction','Country']].value_counts().reset_index()"
      ]
    },
    {
      "cell_type": "code",
      "execution_count": null,
      "metadata": {
        "id": "nNh5c0TeRbgh"
      },
      "outputs": [],
      "source": [
        "content_rec['rec_data'] =  content_rec['AttractionType'] + ' ' + content_rec['Attraction'] + ' ' + content_rec['Country']"
      ]
    },
    {
      "cell_type": "code",
      "execution_count": null,
      "metadata": {
        "id": "3ShqTbsmRopd"
      },
      "outputs": [],
      "source": [
        "#Vectorizer\n",
        "\n",
        "tfid = TfidfVectorizer()\n",
        "\n",
        "x_rec = tfid.fit_transform(content_rec['rec_data'] )"
      ]
    },
    {
      "cell_type": "code",
      "execution_count": null,
      "metadata": {
        "id": "T4IQSiSURxjN"
      },
      "outputs": [],
      "source": [
        "#cosine_similarity\n",
        "\n",
        "co_sim = cosine_similarity(x_rec,x_rec)"
      ]
    },
    {
      "cell_type": "code",
      "execution_count": null,
      "metadata": {
        "id": "JNQPjvXnR5th"
      },
      "outputs": [],
      "source": [
        "def recommend_place(AttractionType):\n",
        "  idx = content_rec[content_rec['AttractionType']==AttractionType].index\n",
        "  idx=idx[0]\n",
        "  sim = list(enumerate(co_sim[idx]))\n",
        "  sim = sorted(sim,key=lambda x:x[1],reverse=True)[:50]\n",
        "  att=[i[0] for i in sim]\n",
        "  return content_rec.iloc[att][['CityName','VisitMode','Country']]"
      ]
    }
  ],
  "metadata": {
    "colab": {
      "toc_visible": true,
      "provenance": [],
      "gpuType": "T4"
    },
    "kernelspec": {
      "display_name": "Python 3",
      "name": "python3"
    },
    "language_info": {
      "name": "python"
    },
    "accelerator": "GPU"
  },
  "nbformat": 4,
  "nbformat_minor": 0
}
