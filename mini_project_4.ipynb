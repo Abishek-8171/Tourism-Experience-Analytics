{
  "nbformat": 4,
  "nbformat_minor": 0,
  "metadata": {
    "colab": {
      "provenance": [],
      "toc_visible": true
    },
    "kernelspec": {
      "name": "python3",
      "display_name": "Python 3"
    },
    "language_info": {
      "name": "python"
    }
  },
  "cells": [
    {
      "cell_type": "code",
      "source": [
        "#Installing packages\n",
        "\n",
        "!pip install scikit-surprise\n",
        "# Uninstall current NumPy completely\n",
        "!pip uninstall -y numpy\n",
        "# Reinstall specific version\n",
        "!pip install numpy==1.23.5 --force-reinstall\n",
        "!pip install streamlit\n",
        "!pip install pyngrok"
      ],
      "metadata": {
        "id": "QHjqT50fWSBF"
      },
      "execution_count": null,
      "outputs": []
    },
    {
      "cell_type": "markdown",
      "source": [
        "# **Required Packages**"
      ],
      "metadata": {
        "id": "zPxL13x0a1Z1"
      }
    },
    {
      "cell_type": "code",
      "source": [
        "import pandas as pd\n",
        "import pickle\n",
        "from sklearn.preprocessing import LabelEncoder\n",
        "import plotly.express as px\n",
        "import seaborn as sns\n",
        "import matplotlib.pyplot as plt\n",
        "from sklearn.model_selection import train_test_split\n",
        "from lightgbm import LGBMRegressor\n",
        "from sklearn.linear_model import LinearRegression\n",
        "from sklearn.linear_model import Ridge,Lasso\n",
        "from sklearn.neighbors import KNeighborsRegressor\n",
        "from sklearn.tree import  DecisionTreeRegressor\n",
        "from sklearn.ensemble import RandomForestRegressor\n",
        "from sklearn.model_selection import GridSearchCV\n",
        "from sklearn.metrics import mean_absolute_error\n",
        "from sklearn.metrics import r2_score\n",
        "from sklearn.linear_model import LogisticRegression\n",
        "from sklearn.neighbors import KNeighborsClassifier\n",
        "from sklearn.tree import DecisionTreeClassifier\n",
        "from sklearn.ensemble import RandomForestClassifier\n",
        "from sklearn.metrics import classification_report\n",
        "from surprise import Dataset, Reader, SVD\n",
        "from surprise.model_selection import cross_validate\n",
        "from sklearn.feature_extraction.text import TfidfVectorizer\n",
        "from sklearn.metrics.pairwise import cosine_similarity\n",
        "import sqlite3\n",
        "\n",
        "\n",
        "\n"
      ],
      "metadata": {
        "id": "zKj6AfvHWNoY"
      },
      "execution_count": null,
      "outputs": []
    },
    {
      "cell_type": "markdown",
      "source": [
        "# **Data collection**"
      ],
      "metadata": {
        "id": "Aiwcb2CO6ois"
      }
    },
    {
      "cell_type": "code",
      "source": [
        "# Reading data from drive\n",
        "\n",
        "city_df = pd.read_excel('/content/drive/MyDrive/mini_project_4_db/City.xlsx')\n",
        "\n",
        "continent_df = pd.read_excel(\"/content/drive/MyDrive/mini_project_4_db/Continent.xlsx\")\n",
        "\n",
        "country_df = pd.read_excel(\"/content/drive/MyDrive/mini_project_4_db/Country.xlsx\")\n",
        "\n",
        "item_df = pd.read_excel(\"/content/drive/MyDrive/mini_project_4_db/Updated_Item.xlsx\")\n",
        "\n",
        "mode_df = pd.read_excel(\"/content/drive/MyDrive/mini_project_4_db/Mode.xlsx\")\n",
        "\n",
        "region_df = pd.read_excel(\"/content/drive/MyDrive/mini_project_4_db/Region.xlsx\")\n",
        "\n",
        "transaction_df = pd.read_excel(\"/content/drive/MyDrive/mini_project_4_db/Transaction.xlsx\")\n",
        "\n",
        "type_df = pd.read_excel(\"/content/drive/MyDrive/mini_project_4_db/Type.xlsx\")\n",
        "\n",
        "user_df = pd.read_excel(\"/content/drive/MyDrive/mini_project_4_db/User.xlsx\")\n"
      ],
      "metadata": {
        "id": "BmRxUeUc0IRP"
      },
      "execution_count": 6,
      "outputs": []
    },
    {
      "cell_type": "code",
      "source": [
        "# Merging Dataframes\n",
        "\n",
        "df_merged1 = pd.merge(transaction_df, user_df, on='UserId', how='inner')\n",
        "df_merged2 = pd.merge(df_merged1, region_df[['Region','RegionId']], on='RegionId', how='inner')\n",
        "df_merged3 = pd.merge(df_merged2, item_df, on='AttractionId', how='inner')\n",
        "df_merged4 = pd.merge(df_merged3, country_df[['CountryId','Country']], on='CountryId', how='inner')\n",
        "df_merged5 = pd.merge(df_merged4, continent_df, on='ContinentId', how='inner')\n",
        "df_merged6 = pd.merge(df_merged5, city_df[['CityId','CityName']], on='CityId', how='inner')\n",
        "df_merged7 = pd.merge(df_merged6, type_df, on='AttractionTypeId', how='inner')\n",
        "df_merged7.rename(columns={'VisitMode': 'VisitModeId'}, inplace=True)\n",
        "main_data = pd.merge(df_merged7, mode_df, on='VisitModeId', how='inner')"
      ],
      "metadata": {
        "id": "MTqYEDu70Jxz"
      },
      "execution_count": 7,
      "outputs": []
    },
    {
      "cell_type": "code",
      "source": [
        "#Checking Na values\n",
        "\n",
        "main_data.isna().sum()"
      ],
      "metadata": {
        "id": "tmHEcpvW-3xZ"
      },
      "execution_count": null,
      "outputs": []
    },
    {
      "cell_type": "code",
      "source": [
        "main_data.describe()"
      ],
      "metadata": {
        "id": "-xdAR6vjpwHh"
      },
      "execution_count": null,
      "outputs": []
    },
    {
      "cell_type": "code",
      "source": [
        "main_data.info()"
      ],
      "metadata": {
        "id": "nI_WmtpWWtvd"
      },
      "execution_count": null,
      "outputs": []
    },
    {
      "cell_type": "markdown",
      "source": [
        "# **Transferring Data to SQL**"
      ],
      "metadata": {
        "id": "SLr3lyiodnkU"
      }
    },
    {
      "cell_type": "code",
      "source": [
        "import sqlite3\n",
        "conn = sqlite3.connect('my_database.db')  # .db file will be created\n",
        "cursor = conn.cursor()\n",
        "main_data.to_sql('tourist_data', conn, if_exists='append', index=False)"
      ],
      "metadata": {
        "id": "ZiPmlARVdmyj"
      },
      "execution_count": null,
      "outputs": []
    },
    {
      "cell_type": "markdown",
      "source": [
        "# **Pre-proccessig**"
      ],
      "metadata": {
        "id": "MRdiCGUI9Hhx"
      }
    },
    {
      "cell_type": "code",
      "source": [
        "# Dropping unwanted columns\n",
        "\n",
        "main_data_ml = main_data.drop('AttractionAddress',axis=1)"
      ],
      "metadata": {
        "id": "6lrZQ3nb0U4p"
      },
      "execution_count": 8,
      "outputs": []
    },
    {
      "cell_type": "code",
      "source": [
        "#Encoding columns with object datatype\n",
        "\n",
        "categorical_cols = main_data_ml.select_dtypes(include='object').columns.tolist()\n",
        "label_encoders = {}\n",
        "\n",
        "for col in categorical_cols:\n",
        "    le = LabelEncoder()\n",
        "    main_data_ml[col] = le.fit_transform(main_data_ml[col])\n",
        "    label_encoders[col] = le"
      ],
      "metadata": {
        "id": "E8FVSGya0UHl"
      },
      "execution_count": 9,
      "outputs": []
    },
    {
      "cell_type": "code",
      "source": [
        "# save the encoder\n",
        "\n",
        "with open(\"label_encoder.pkl\",'wb') as encoder_file:\n",
        "  pickle.dump(label_encoders,encoder_file)"
      ],
      "metadata": {
        "id": "9WKDa5PiBdO5"
      },
      "execution_count": null,
      "outputs": []
    },
    {
      "cell_type": "markdown",
      "source": [
        "# **EDA**"
      ],
      "metadata": {
        "id": "08XhBYr69_Qp"
      }
    },
    {
      "cell_type": "code",
      "source": [
        "#Distribution across continents, countries, and regions."
      ],
      "metadata": {
        "id": "Ef15WOUoGOoV"
      },
      "execution_count": null,
      "outputs": []
    },
    {
      "cell_type": "code",
      "source": [
        "distribution_continent= main_data['Continent'].value_counts().reset_index(name='Visit_count')\n",
        "fig = px.bar(distribution_continent,'Continent','Visit_count',title=\"Distribution across Continent\",color='Continent')\n",
        "fig.show()"
      ],
      "metadata": {
        "id": "NcEUY5t70U1D"
      },
      "execution_count": null,
      "outputs": []
    },
    {
      "cell_type": "code",
      "source": [
        "distribution_country = main_data['Country'].value_counts().reset_index(name='Visit_count')\n",
        "fig = px.bar(distribution_country,'Country','Visit_count',title=\"Distribution across country\",color='Country')\n",
        "fig.show()\n"
      ],
      "metadata": {
        "id": "MEwRnaMh0Uxl"
      },
      "execution_count": null,
      "outputs": []
    },
    {
      "cell_type": "code",
      "source": [
        "distribution_region= main_data['Region'].value_counts().reset_index(name='Visit_count')\n",
        "fig = px.bar(distribution_region,'Region','Visit_count',title=\"Distribution across Region\",color='Region')\n",
        "fig.show()"
      ],
      "metadata": {
        "id": "i0rJ0h2o0Ut7"
      },
      "execution_count": null,
      "outputs": []
    },
    {
      "cell_type": "code",
      "source": [
        "#attraction types and their popularity based on user ratings\n",
        "\n",
        "popular_att = main_data[['AttractionType','Rating']]"
      ],
      "metadata": {
        "id": "CEsui_3K0Uq5"
      },
      "execution_count": null,
      "outputs": []
    },
    {
      "cell_type": "code",
      "source": [
        "pop_att = popular_att.groupby(\"AttractionType\")['Rating'].value_counts().reset_index(name='No_Users')"
      ],
      "metadata": {
        "id": "dYEA_4re0Unl"
      },
      "execution_count": null,
      "outputs": []
    },
    {
      "cell_type": "code",
      "source": [
        "rating = px.bar(pop_att,'AttractionType','No_Users',hover_data='Rating',color='Rating')\n",
        "rating.show()"
      ],
      "metadata": {
        "id": "qVbnb6yA0Ukc"
      },
      "execution_count": null,
      "outputs": []
    },
    {
      "cell_type": "code",
      "source": [
        "#Correlation"
      ],
      "metadata": {
        "id": "bo1mgLatG1fY"
      },
      "execution_count": null,
      "outputs": []
    },
    {
      "cell_type": "code",
      "source": [
        "correlation = main_data_ml[['UserId','ContinentId','Continent', 'VisitYear', 'VisitMonth','RegionId','Region', 'AttractionCityId', 'AttractionTypeId',\n",
        "                         'Attraction','AttractionType','CountryId','Country','CityId', 'CityName','VisitModeId','VisitMode','Rating']]\n"
      ],
      "metadata": {
        "id": "oBc7JF4E0Uha"
      },
      "execution_count": null,
      "outputs": []
    },
    {
      "cell_type": "code",
      "source": [
        "# Plot heatmap for correlation\n",
        "plt.figure(figsize=(20,20))\n",
        "sns.heatmap(correlation.corr(), annot=True,vmax=1,vmin=-1)\n",
        "plt.title(\"Correlation Heatmap\")\n",
        "plt.show()"
      ],
      "metadata": {
        "id": "qApmKZiy0Ud3"
      },
      "execution_count": null,
      "outputs": []
    },
    {
      "cell_type": "code",
      "source": [
        "#Distribution of ratings across different attractions and regions"
      ],
      "metadata": {
        "id": "nhJo_HgjG-Nc"
      },
      "execution_count": null,
      "outputs": []
    },
    {
      "cell_type": "code",
      "source": [
        "att_reg_rat = main_data[['Attraction','Region','Rating']]\n"
      ],
      "metadata": {
        "id": "WquTT5fV0UYc"
      },
      "execution_count": null,
      "outputs": []
    },
    {
      "cell_type": "code",
      "source": [
        "rating_filter = att_reg_rat.groupby(['Attraction','Region'])['Rating'].value_counts().reset_index(name='ratted_users').sort_values(by=\"ratted_users\", ascending=False)"
      ],
      "metadata": {
        "id": "9e7TKdQN0UUH"
      },
      "execution_count": null,
      "outputs": []
    },
    {
      "cell_type": "code",
      "source": [
        "fig = px.bar(rating_filter,'Region','Rating',hover_data=['Attraction','ratted_users'],color='Rating')\n",
        "fig.show()"
      ],
      "metadata": {
        "id": "OYF85sN50URI"
      },
      "execution_count": null,
      "outputs": []
    },
    {
      "cell_type": "markdown",
      "source": [
        "# **Machine Learning**"
      ],
      "metadata": {
        "id": "IzIV0ZQE9Ssk"
      }
    },
    {
      "cell_type": "markdown",
      "source": [
        "# *Regression*"
      ],
      "metadata": {
        "id": "hokkXIQz9Xvg"
      }
    },
    {
      "cell_type": "code",
      "source": [
        "reg_mod_df = main_data_ml[[ 'VisitMonth', 'CityName','Attraction','VisitMode','Rating']]"
      ],
      "metadata": {
        "id": "hTT-_tbF0UEm"
      },
      "execution_count": null,
      "outputs": []
    },
    {
      "cell_type": "code",
      "source": [
        "# Features and target\n",
        "\n",
        "x =reg_mod_df.drop(columns='Rating',axis=1)\n",
        "y =reg_mod_df['Rating']"
      ],
      "metadata": {
        "id": "C3lwkSjT0UBP"
      },
      "execution_count": null,
      "outputs": []
    },
    {
      "cell_type": "code",
      "source": [
        "# Splitting data into train and test\n",
        "\n",
        "x_train,x_test,y_train,y_test=train_test_split(x,y,test_size=0.2,random_state=0)"
      ],
      "metadata": {
        "id": "U0EBgvRr0T9g"
      },
      "execution_count": null,
      "outputs": []
    },
    {
      "cell_type": "code",
      "source": [
        "#LGBMRegressor\n",
        "lgm = LGBMRegressor()\n",
        "lgm.fit(x_train,y_train)"
      ],
      "metadata": {
        "id": "4zjlztwb0T3r"
      },
      "execution_count": null,
      "outputs": []
    },
    {
      "cell_type": "code",
      "source": [
        "#LinearRegression\n",
        "\n",
        "lr=LinearRegression()\n",
        "lr.fit(x_train,y_train)"
      ],
      "metadata": {
        "id": "CYov4NWy49P-"
      },
      "execution_count": null,
      "outputs": []
    },
    {
      "cell_type": "code",
      "source": [
        "#Ridge,Lasso\n",
        "\n",
        "ridge_model = Ridge(alpha=1.0)\n",
        "lasso_model = Lasso(alpha=1.0)\n",
        "ridge_model.fit(x_train, y_train)\n",
        "lasso_model.fit(x_train, y_train)"
      ],
      "metadata": {
        "id": "qRml4Ltn49IJ"
      },
      "execution_count": null,
      "outputs": []
    },
    {
      "cell_type": "code",
      "source": [
        "#KNeighborsRegressor\n",
        "\n",
        "KNN=KNeighborsRegressor(n_neighbors=20)\n",
        "KNN.fit(x_train,y_train)"
      ],
      "metadata": {
        "id": "wCm_zMhG48_9"
      },
      "execution_count": null,
      "outputs": []
    },
    {
      "cell_type": "code",
      "source": [
        "#DecisionTreeRegressor model\n",
        "\n",
        "dtr=DecisionTreeRegressor()\n",
        "dtr.fit(x_train,y_train)"
      ],
      "metadata": {
        "id": "zVzXRwsv5ulb"
      },
      "execution_count": null,
      "outputs": []
    },
    {
      "cell_type": "code",
      "source": [
        "#RandomForestRegressor\n",
        "rfc=RandomForestRegressor(n_estimators=1000, max_depth=100, min_samples_split=100, min_samples_leaf=20,  max_features='sqrt', bootstrap=True)\n",
        "rfc.fit(x_train,y_train)"
      ],
      "metadata": {
        "id": "sEFDLfaDmjlV"
      },
      "execution_count": null,
      "outputs": []
    },
    {
      "cell_type": "code",
      "source": [
        "#Hyperparameter tuning\n",
        "\n",
        "linear_param={'fit_intercept':[True,False]}\n",
        "\n",
        "decision_param={\"splitter\":['best', 'random'],\"max_depth\":[None,5,10,15,20],\"min_samples_split\":[2,3,4,5,6,7,8,10]}\n",
        "\n",
        "knn_param={'n_neighbors':[5,7,9,12,15,18,20],\"weights\":['uniform','distance']}\n",
        "\n",
        "#Creating multiple models\n",
        "\n",
        "grid_search_lr=GridSearchCV(lr,linear_param,cv=5)\n",
        "grid_search_dtr=GridSearchCV(dtr,decision_param,cv=5)\n",
        "grid_search_KNN=GridSearchCV(KNN,knn_param,cv=5)\n",
        "\n",
        "#Training multiple models\n",
        "\n",
        "grid_search_lr.fit(x_train,y_train)\n",
        "grid_search_dtr.fit(x_train,y_train)\n",
        "grid_search_KNN.fit(x_train,y_train)"
      ],
      "metadata": {
        "id": "e3_lsoEM5ucz"
      },
      "execution_count": null,
      "outputs": []
    },
    {
      "cell_type": "code",
      "source": [
        "# Evaluation metrics\n",
        "\n",
        "y_pred_lr=lr.predict(x_test)\n",
        "lr_score=lr.score(x_test,y_test)\n",
        "linear_mae=mean_absolute_error(y_test,y_pred_lr)\n",
        "r2_lr = r2_score(y_test,y_pred_lr)\n",
        "\n",
        "y_pred_rm=ridge_model.predict(x_test)\n",
        "rm_score=ridge_model.score(x_test,y_test)\n",
        "rm_mae=mean_absolute_error(y_test,y_pred_rm)\n",
        "r2_rm = r2_score(y_test,y_pred_rm)\n",
        "\n",
        "y_pred_lm=lasso_model.predict(x_test)\n",
        "lm_score=lasso_model.score(x_test,y_test)\n",
        "lm_mae=mean_absolute_error(y_test,y_pred_lm)\n",
        "r2_lm = r2_score(y_test,y_pred_lm)\n",
        "\n",
        "y_pred_knn=KNN.predict(x_test)\n",
        "KNN_score=KNN.score(x_test,y_test)\n",
        "knn_mae=mean_absolute_error(y_test,y_pred_knn)\n",
        "r2_knn = r2_score(y_test,y_pred_knn)\n",
        "\n",
        "y_pred_dtr=dtr.predict(x_test)\n",
        "dtr_score=dtr.score(x_test,y_test)\n",
        "dtr_mae=mean_absolute_error(y_test,y_pred_dtr)\n",
        "r2_dtr = r2_score(y_test,y_pred_dtr)\n",
        "\n",
        "y_pred_rfc=rfc.predict(x_test)\n",
        "rfc_score=rfc.score(x_test,y_test)\n",
        "rfc_mae=mean_absolute_error(y_test,y_pred_rfc)\n",
        "r2_rfc = r2_score(y_test,y_pred_rfc)\n",
        "\n",
        "y_pref_lgm = lgm.predict(x_test)\n",
        "lgm_score=lgm.score(x_test,y_test)\n",
        "lgm_mae=mean_absolute_error(y_test,y_pref_lgm)\n",
        "r2_lgm = r2_score(y_test,y_pref_lgm)\n",
        "\n",
        "print(f\"Linear regression \\n r2 score : {r2_lr}\\n mae : {linear_mae} \\nRidge model \\n r2 score : {r2_rm}\\n mae : {rm_mae}  \\nlasso_model \\n r2 score : {r2_lm} \\n mae : {lm_mae} \\nKNN model \\n r2 score : {r2_knn}\\n mae : {knn_mae} \\nDecision tree  \\n r2 score : {r2_dtr}\\n mae : {dtr_mae} \\nRandom forest \\n r2 score : {r2_rfc} \\n mae : {rfc_mae} \\nLGM \\n r2 score : {r2_lgm}\\n mae : {lgm_mae}\")"
      ],
      "metadata": {
        "id": "rzuJP1Yd5uLb"
      },
      "execution_count": null,
      "outputs": []
    },
    {
      "cell_type": "code",
      "source": [
        "#classification\n",
        "\n",
        "log_param_reg={\n",
        "            'C': [0.1,1, 10],\n",
        "            'penalty': ['l1', 'l2']\n",
        "        }\n",
        "\n",
        "dtc_param_reg={\n",
        "            'max_depth': [None,10, 20],\n",
        "            'min_samples_split': [2, 5]\n",
        "        }\n",
        "\n",
        "knnc_param_reg={\n",
        "            'n_neighbors': [5,10,20],\n",
        "            'weights': ['uniform', 'distance']}\n",
        "rfc_param_reg ={ 'n_estimators': [50,100,200],\n",
        "            'max_depth': [None,10,20],\n",
        "            \"min_samples_split\":[5,6,7,8,10]}\n",
        "#Creating multiple models\n",
        "\n",
        "re_log=LogisticRegression()\n",
        "reg_dtc=DecisionTreeClassifier()\n",
        "reg_knnc=KNeighborsClassifier()\n",
        "reg_rfc=RandomForestClassifier()\n",
        "\n",
        "grid_search_log_reg=GridSearchCV(re_log,log_param_reg,cv=5)\n",
        "grid_search_dtc_reg=GridSearchCV(reg_dtc,dtc_param_reg,cv=5)\n",
        "grid_search_KNNC_reg=GridSearchCV(reg_knnc,knnc_param_reg,cv=5)\n",
        "grid_search_rfc_reg=GridSearchCV(reg_rfc,rfc_param_reg,cv=5)\n",
        "\n",
        "\n",
        "#Training multiple models\n",
        "\n",
        "grid_search_log_reg.fit(x_train,y_train)\n",
        "grid_search_dtc_reg.fit(x_train,y_train)\n",
        "grid_search_KNNC_reg.fit(x_train,y_train)\n",
        "grid_search_rfc_reg.fit(x_train,y_train)"
      ],
      "metadata": {
        "id": "w8y7GjnjrMF7"
      },
      "execution_count": null,
      "outputs": []
    },
    {
      "cell_type": "code",
      "source": [
        "# Evaluation metrics\n",
        "\n",
        "y_pred_log_reg=grid_search_log_reg.predict(x_test)\n",
        "log_reg_rep=classification_report(y_test,y_pred_log_reg)\n",
        "\n",
        "\n",
        "y_pred_knnc_reg=grid_search_KNNC_reg.predict(x_test)\n",
        "knnc_reg_rep=classification_report(y_test,y_pred_knnc_reg)\n",
        "\n",
        "\n",
        "y_pred_dtc_reg=grid_search_dtc_reg.predict(x_test)\n",
        "dtc_reg_rep=classification_report(y_test,y_pred_dtc_reg)\n",
        "\n",
        "\n",
        "y_pred_rfc_reg=grid_search_rfc_reg.predict(x_test)\n",
        "rfclass_reg_rep=classification_report(y_test,y_pred_rfc_reg)\n",
        "\n",
        "print(f\"Logistic regression \\n{log_reg_rep} \\nKNN Classifier \\n {knnc_reg_rep} \\nDecision tree Classifier \\n {dtc_reg_rep} \\nRandom forest Classifier \\n {rfclass_reg_rep} \")"
      ],
      "metadata": {
        "id": "mlTH-pkUymy7"
      },
      "execution_count": null,
      "outputs": []
    },
    {
      "cell_type": "code",
      "source": [
        "#Finalized model for classification\n",
        "\n",
        "Final_RFC_ratings=RandomForestClassifier(max_depth=10, min_samples_split=6, n_estimators=50)\n",
        "Final_RFC_ratings.fit(x_train,y_train)"
      ],
      "metadata": {
        "id": "XebqcWTT7RgE"
      },
      "execution_count": null,
      "outputs": []
    },
    {
      "cell_type": "code",
      "source": [
        "#Final report\n",
        "\n",
        "y_pred_FRR=Final_RFC_ratings.predict(x_test)\n",
        "print(classification_report(y_test,y_pred_FRR))"
      ],
      "metadata": {
        "id": "EehMVGQf71JT"
      },
      "execution_count": null,
      "outputs": []
    },
    {
      "cell_type": "code",
      "source": [
        "# Save the model\n",
        "\n",
        "with open(\"RFC_Ratings.pkl\",'wb') as RFC_file:\n",
        "    pickle.dump(Final_RFC_ratings,RFC_file)"
      ],
      "metadata": {
        "id": "EZ65G8QNz1it"
      },
      "execution_count": null,
      "outputs": []
    },
    {
      "cell_type": "markdown",
      "source": [
        "# *Classification*"
      ],
      "metadata": {
        "id": "SBgcyMsq9jA4"
      }
    },
    {
      "cell_type": "code",
      "source": [
        "class_data = main_data_ml[['VisitYear','VisitMonth','Rating','Attraction','AttractionType','CityName','Country','VisitMode']]\n"
      ],
      "metadata": {
        "id": "Zzcr8xeu5uB4",
        "collapsed": true
      },
      "execution_count": null,
      "outputs": []
    },
    {
      "cell_type": "code",
      "source": [
        "# Features and target\n",
        "\n",
        "x_class = class_data.drop('VisitMode',axis=1)\n",
        "y_class = class_data['VisitMode']"
      ],
      "metadata": {
        "id": "AB_0Ysv05t9J"
      },
      "execution_count": null,
      "outputs": []
    },
    {
      "cell_type": "code",
      "source": [
        "# Splitting data into train and test\n",
        "\n",
        "x_train_class,x_test_class,y_train_class,y_test_class = train_test_split(x_class,y_class,test_size=0.2,random_state=42)"
      ],
      "metadata": {
        "id": "h7O9GmFR5t5N"
      },
      "execution_count": null,
      "outputs": []
    },
    {
      "cell_type": "code",
      "source": [
        "# Hyperparameter Tuning\n",
        "\n",
        "log_param={\n",
        "            'C': [0.1, 1, 10],\n",
        "            'penalty': ['l1', 'l2']\n",
        "        }\n",
        "\n",
        "dtc_param={\n",
        "            'max_depth': [None, 10, 20],\n",
        "            'min_samples_split': [2, 5]\n",
        "        }\n",
        "\n",
        "knnc_param={\n",
        "            'n_neighbors': [3, 5, 7,10,12,15,20],\n",
        "            'weights': ['uniform', 'distance']}\n",
        "rfc_param ={ 'n_estimators': [50, 100],\n",
        "            'max_depth': [None, 10, 20],\n",
        "            'min_samples_split': [2, 5]}\n",
        "#Creating multiple models\n",
        "\n",
        "g_log=LogisticRegression()\n",
        "g_dtc=DecisionTreeClassifier()\n",
        "g_knnc=KNeighborsClassifier()\n",
        "g_rfc=RandomForestClassifier()\n",
        "\n",
        "grid_search_log=GridSearchCV(g_log,log_param,cv=5)\n",
        "grid_search_dtc=GridSearchCV(g_dtc,dtc_param,cv=5)\n",
        "grid_search_KNNC=GridSearchCV(g_knnc,knnc_param,cv=5)\n",
        "grid_search_rfc=GridSearchCV(g_rfc,rfc_param,cv=5)\n",
        "\n",
        "#Training multiple models\n",
        "\n",
        "grid_search_log.fit(x_train_class,y_train_class)\n",
        "grid_search_dtc.fit(x_train_class,y_train_class)\n",
        "grid_search_KNNC.fit(x_train_class,y_train_class)\n",
        "grid_search_rfc.fit(x_train_class,y_train_class)"
      ],
      "metadata": {
        "id": "GH7kRVt1lN7t"
      },
      "execution_count": null,
      "outputs": []
    },
    {
      "cell_type": "code",
      "source": [
        "#KNeighborsClassifier\n",
        "knn_class=KNeighborsClassifier(n_neighbors=20, weights='distance')\n",
        "knn_class.fit(x_train_class,y_train_class)"
      ],
      "metadata": {
        "id": "GSGntV_q5ts9"
      },
      "execution_count": null,
      "outputs": []
    },
    {
      "cell_type": "code",
      "source": [
        "#DecisionTreeClassifier\n",
        "\n",
        "dtc=DecisionTreeClassifier(max_depth=10)\n",
        "dtc.fit(x_train_class,y_train_class)"
      ],
      "metadata": {
        "id": "nqBkQ-Qa5to1"
      },
      "execution_count": null,
      "outputs": []
    },
    {
      "cell_type": "code",
      "source": [
        "# RandomForestClassifier\n",
        "\n",
        "gs_rfc=RandomForestClassifier(max_depth=10, min_samples_split=5, n_estimators=50)\n",
        "gs_rfc.fit(x_train_class,y_train_class)"
      ],
      "metadata": {
        "id": "SceuEcLj5tk3"
      },
      "execution_count": null,
      "outputs": []
    },
    {
      "cell_type": "code",
      "source": [
        "# Evaluation metrics\n",
        "\n",
        "y_pred_log=log_reg.predict(x_test_class)\n",
        "log_rep=classification_report(y_test_class,y_pred_log)\n",
        "\n",
        "\n",
        "y_pred_knnc=knn_class.predict(x_test_class)\n",
        "knnc_rep=classification_report(y_test_class,y_pred_knnc)\n",
        "\n",
        "\n",
        "y_pred_dtc=dtc.predict(x_test_class)\n",
        "dtc_rep=classification_report(y_test_class,y_pred_dtc)\n",
        "\n",
        "\n",
        "y_pred_rfclass=gs_rfc.predict(x_test_class)\n",
        "rfclass_rep=classification_report(y_test_class,y_pred_rfclass)\n",
        "\n",
        "print(f\"Logistic regression \\n{log_rep} \\nKNN Classifier \\n {knnc_rep} \\nDecision tree Classifier \\n {dtc_rep} \\nRandom forest Classifier \\n {rfclass_rep} \")"
      ],
      "metadata": {
        "id": "y7zrAHes5tg0"
      },
      "execution_count": null,
      "outputs": []
    },
    {
      "cell_type": "code",
      "source": [
        "#Finalized model\n",
        "\n",
        "from sklearn.neighbors import KNeighborsClassifier\n",
        "knn_class=KNeighborsClassifier(n_neighbors=20, weights='distance')\n",
        "knn_class.fit(x_train_class,y_train_class)"
      ],
      "metadata": {
        "id": "04wscWLB_LyS"
      },
      "execution_count": null,
      "outputs": []
    },
    {
      "cell_type": "code",
      "source": [
        "# Save the model\n",
        "\n",
        "with open(\"KNNClassifier_VM.pkl\",'wb') as KNN_file:\n",
        "    pickle.dump(knn_class,KNN_file)"
      ],
      "metadata": {
        "id": "lNr22Qt1_W62"
      },
      "execution_count": null,
      "outputs": []
    },
    {
      "cell_type": "markdown",
      "source": [
        "# *Recommentation*"
      ],
      "metadata": {
        "id": "heouN4LC9pJI"
      }
    },
    {
      "cell_type": "code",
      "source": [
        "#Collaborative Filtering"
      ],
      "metadata": {
        "id": "OC6QLpnr48yR"
      },
      "execution_count": null,
      "outputs": []
    },
    {
      "cell_type": "code",
      "source": [
        "#user related recommentation\n",
        "\n",
        "coll_rec = main_data[['UserId','CityId','Rating','CityName','Country']]"
      ],
      "metadata": {
        "id": "I1LUnUxH48uF"
      },
      "execution_count": null,
      "outputs": []
    },
    {
      "cell_type": "code",
      "source": [
        "# Load into Surprise format\n",
        "reader = Reader(rating_scale=(1, 5))\n",
        "data_surprise = Dataset.load_from_df(coll_rec[['UserId','CityId','Rating']], reader)\n",
        "train_data=data_surprise.build_full_trainset()\n",
        "\n",
        "model = SVD()\n",
        "model.fit(train_data)\n",
        "\n",
        "model_results = cross_validate(model,data_surprise,measures=['RMSE','MAE'],cv=5,verbose=True)\n"
      ],
      "metadata": {
        "id": "46Zpc7It48p3"
      },
      "execution_count": null,
      "outputs": []
    },
    {
      "cell_type": "code",
      "source": [
        "with open(\"SVD.pkl\",'wb') as SVD_file:\n",
        "    pickle.dump(model,SVD_file)"
      ],
      "metadata": {
        "id": "-ji5zpEpESnl"
      },
      "execution_count": null,
      "outputs": []
    },
    {
      "cell_type": "code",
      "source": [
        "def recommend_svd(user_id, n=10):\n",
        "    all_cities = coll_rec['CityId'].unique()\n",
        "    rated = coll_rec[coll_rec['UserId'] == user_id]['CityId'].tolist()\n",
        "    unrated = [city for city in all_cities if city not in rated]\n",
        "\n",
        "    preds = [model.predict(user_id, cid) for cid in unrated]\n",
        "    preds.sort(key=lambda x: x.est, reverse=True)\n",
        "\n",
        "    top_cities = [pred.iid for pred in preds[:n]]\n",
        "    return coll_rec[coll_rec['CityId'].isin(top_cities)][['CityName', 'Country']].drop_duplicates()\n"
      ],
      "metadata": {
        "id": "dR4bWkKSfuqn"
      },
      "execution_count": null,
      "outputs": []
    },
    {
      "cell_type": "code",
      "source": [
        "#Content-Based Filtering"
      ],
      "metadata": {
        "id": "ud-13KJjiYss"
      },
      "execution_count": null,
      "outputs": []
    },
    {
      "cell_type": "code",
      "source": [
        "content_rec=main_data[['CityName','VisitMode','AttractionType','Attraction','Country']].value_counts().reset_index()"
      ],
      "metadata": {
        "id": "Qu4tkZNmQi0J"
      },
      "execution_count": null,
      "outputs": []
    },
    {
      "cell_type": "code",
      "source": [
        "content_rec['rec_data'] =  content_rec['AttractionType'] + ' ' + content_rec['Attraction'] + ' ' + content_rec['Country']"
      ],
      "metadata": {
        "id": "nNh5c0TeRbgh"
      },
      "execution_count": null,
      "outputs": []
    },
    {
      "cell_type": "code",
      "source": [
        "#Vectorizer\n",
        "\n",
        "tfid = TfidfVectorizer()\n",
        "\n",
        "x_rec = tfid.fit_transform(content_rec['rec_data'] )"
      ],
      "metadata": {
        "id": "3ShqTbsmRopd"
      },
      "execution_count": null,
      "outputs": []
    },
    {
      "cell_type": "code",
      "source": [
        "#cosine_similarity\n",
        "\n",
        "co_sim = cosine_similarity(x_rec,x_rec)"
      ],
      "metadata": {
        "id": "T4IQSiSURxjN"
      },
      "execution_count": null,
      "outputs": []
    },
    {
      "cell_type": "code",
      "source": [
        "def recommend_place(AttractionType):\n",
        "  idx = content_rec[content_rec['AttractionType']==AttractionType].index\n",
        "  idx=idx[0]\n",
        "  sim = list(enumerate(co_sim[idx]))\n",
        "  sim = sorted(sim,key=lambda x:x[1],reverse=True)[:50]\n",
        "  att=[i[0] for i in sim]\n",
        "  return content_rec.iloc[att][['CityName','VisitMode','Country']]"
      ],
      "metadata": {
        "id": "JNQPjvXnR5th"
      },
      "execution_count": null,
      "outputs": []
    },
    {
      "cell_type": "markdown",
      "source": [
        "# **Streamlit**"
      ],
      "metadata": {
        "id": "K7QOCYGKtMlz"
      }
    },
    {
      "cell_type": "code",
      "source": [
        "!pip install streamlit\n",
        "!pip install pyngrok"
      ],
      "metadata": {
        "id": "lygWi0CCaX04"
      },
      "execution_count": null,
      "outputs": []
    },
    {
      "cell_type": "code",
      "source": [
        "%%writefile app.py\n",
        "import streamlit as st\n",
        "import pandas as pd\n",
        "import pickle\n",
        "from surprise import Dataset, Reader, SVD\n",
        "from surprise.model_selection import cross_validate\n",
        "\n",
        "col1, col2 = st.columns([0.7,0.7])\n",
        "\n",
        "with col1:\n",
        "    st.image(\"/content/drive/MyDrive/mini_project_4_db/m4_pickle_files/Tourism template.jpg\",width=600)\n",
        "with col2:\n",
        "    st.image(\"/content/drive/MyDrive/mini_project_4_db/m4_pickle_files/images_temp.jpg\",width=600)\n",
        "\n",
        "st.title('🤖Smart Travel Recommender✨')\n",
        "data=pd.read_csv('/content/drive/MyDrive/mini_project_4_db/m4_pickle_files/data.csv')\n",
        "fil_data = data[['Continent','Region','Country','Attraction','VisitMonth','VisitMode','CityName','Rating']]\n",
        "main_menu=fil_data.groupby(['Continent','Region','Country','Attraction','VisitMonth','VisitMode','CityName'])['Rating'].mean().reset_index()\n",
        "main_menu.drop('Region',axis=1,inplace=True)\n",
        "\n",
        "st.write(\"Discover your next dream destination! Our smart system recommends the best tourist spots based on your travel style, location, and ratings.\")\n",
        "st.subheader(\"How It Works\")\n",
        "st.markdown(\"\"\"\n",
        "1. 🎯 Select your preferences (Country, City, Mode of Visit).\n",
        "2. 🌍 View top-rated tourist places.\n",
        "3. 🧳 Save your favorite destinations and start planning!\n",
        "\"\"\")\n",
        "st.subheader(\"Key Features\")\n",
        "st.markdown(\"\"\"\n",
        "- 🚀 Real-time destination suggestions.\n",
        "- 🏖️ Personalized based on your choices.\n",
        "- 📊 Data-driven recommendations.\n",
        "- 🌟 Explore attractions by ratings, region, and season.\n",
        "\"\"\")\n",
        "\n",
        "st.sidebar.header(\"Recommender🌍\")\n",
        "options=st.sidebar.selectbox('',['Select_Type','Collaborative Filtering','Content-Based'])\n",
        "\n",
        "if options=='Collaborative Filtering':\n",
        "  #user related recommentation\n",
        "  coll_rec = data[['UserId','CityId','Rating','CityName','Country']]\n",
        "\n",
        "  UserId = st.selectbox('UserId',data['UserId'].unique())\n",
        "\n",
        "# Load into Surprise format\n",
        "  reader = Reader(rating_scale=(1, 5))\n",
        "  data_surprise = Dataset.load_from_df(coll_rec[['UserId','CityId','Rating']], reader)\n",
        "  train_data=data_surprise.build_full_trainset()\n",
        "\n",
        "  with open('/content/drive/MyDrive/mini_project_4_db/m4_pickle_files/SVD.pkl','rb') as model:\n",
        "    svd_model=pickle.load(model)\n",
        "\n",
        "\n",
        "  def recommend_svd(user_id, n=10):\n",
        "    all_cities = coll_rec['CityId'].unique()\n",
        "    rated = coll_rec[coll_rec['UserId'] == user_id]['CityId'].tolist()\n",
        "    unrated = [city for city in all_cities if city not in rated]\n",
        "\n",
        "    preds = [svd_model.predict(user_id, cid) for cid in unrated]\n",
        "    preds.sort(key=lambda x: x.est, reverse=True)\n",
        "\n",
        "    top_cities = [pred.iid for pred in preds[:n]]\n",
        "    return coll_rec[coll_rec['CityId'].isin(top_cities)][['CityName', 'Country']].drop_duplicates()\n",
        "  predict_coll=st.button('Predict')\n",
        "  if predict_coll:\n",
        "    coll_output = recommend_svd(UserId)\n",
        "    st.header(\"Recommended Places\")\n",
        "    st.write(coll_output)\n",
        "\n",
        "if options=='Content-Based':\n",
        "    content_rec=data[['CityName','VisitMode','AttractionType','Attraction','Country']].value_counts().reset_index()\n",
        "    content_rec['rec_data'] =  content_rec['AttractionType'] + ' ' + content_rec['Attraction'] + ' ' + content_rec['Country']\n",
        "    from sklearn.feature_extraction.text import TfidfVectorizer\n",
        "\n",
        "    tfid = TfidfVectorizer()\n",
        "\n",
        "    x_rec = tfid.fit_transform(content_rec['rec_data'] )\n",
        "    from sklearn.metrics.pairwise import cosine_similarity\n",
        "\n",
        "    co_sim = cosine_similarity(x_rec,x_rec)\n",
        "    def recommend_place(AttractionType):\n",
        "        idx = content_rec[content_rec['AttractionType']==AttractionType].index\n",
        "        idx=idx[0]\n",
        "        sim = list(enumerate(co_sim[idx]))\n",
        "        sim = sorted(sim,key=lambda x:x[1],reverse=True)[:50]\n",
        "        att=[i[0] for i in sim]\n",
        "        return content_rec.iloc[att][['CityName','VisitMode','Country']]\n",
        "    att=data['AttractionType'].unique()\n",
        "    att_input=st.selectbox('SelectAttractionType',att)\n",
        "    predict_content = st.button('Predict')\n",
        "    if predict_content:\n",
        "      att_output=recommend_place(att_input)\n",
        "      st.header(\"Recommended Places\")\n",
        "      st.write(att_output)\n",
        "\n",
        "st.sidebar.header(\"Tourist Place Directory\")\n",
        "\n",
        "continent_list = main_menu['Continent'].unique()\n",
        "country_list = main_menu['Country'].unique()\n",
        "country_list.sort()\n",
        "attraction_list = main_menu['Attraction'].unique()\n",
        "visitmonth_list = main_menu['VisitMonth'].unique()\n",
        "visitmonth_list.sort()\n",
        "visitmode_list = main_menu['VisitMode'].unique()\n",
        "\n",
        "\n",
        "country = st.sidebar.selectbox(\"Country\",country_list)\n",
        "visitmonth = st.sidebar.selectbox(\"VisitMonth\",visitmonth_list)\n",
        "visitmode = st.sidebar.selectbox(\"VisitMode\",visitmode_list)\n",
        "\n",
        "show = st.sidebar.button('Show Places')\n",
        "if show:\n",
        "    filtered_data = main_menu[(main_menu['Country']==country) & (main_menu['VisitMonth']==visitmonth) & (main_menu['VisitMode']==visitmode)]\n",
        "    st.header(\"Recommended Places\")\n",
        "    st.write(filtered_data)\n",
        ""
      ],
      "metadata": {
        "colab": {
          "base_uri": "https://localhost:8080/"
        },
        "id": "AEdA9nY0tgCx",
        "outputId": "fb17b099-3fd7-4ab8-c0fb-f290223540ba"
      },
      "execution_count": 25,
      "outputs": [
        {
          "output_type": "stream",
          "name": "stdout",
          "text": [
            "Overwriting app.py\n"
          ]
        }
      ]
    },
    {
      "cell_type": "code",
      "source": [
        "!npm install localtunnel"
      ],
      "metadata": {
        "id": "bZbAIFonw82V"
      },
      "execution_count": null,
      "outputs": []
    },
    {
      "cell_type": "code",
      "source": [
        "!streamlit run /content/app.py &>/content/logs.txt & npx localtunnel --port 8501 & curl ipv4.icanhazip.com"
      ],
      "metadata": {
        "id": "ms0Sj5M6t2rZ"
      },
      "execution_count": null,
      "outputs": []
    }
  ]
}